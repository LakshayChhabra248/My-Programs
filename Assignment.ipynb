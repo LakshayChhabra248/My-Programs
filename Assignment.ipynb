{
 "cells": [
  {
   "cell_type": "markdown",
   "metadata": {},
   "source": [
    "*Question 1:* Palindrome Check: Write a program to check if a given string is a\n",
    "palindrome. A palindrome is a word that reads the same backward as forward. "
   ]
  },
  {
   "cell_type": "code",
   "execution_count": 3,
   "metadata": {},
   "outputs": [
    {
     "name": "stdout",
     "output_type": "stream",
     "text": [
      "The string is a palindrome\n"
     ]
    }
   ],
   "source": [
    "# Answer - 1\n",
    "def chkPalindrome(string):\n",
    "    if string == string[::-1]:\n",
    "        return True\n",
    "    else:\n",
    "        return False\n",
    "inputString = input(\"Enter a string: \")\n",
    "if chkPalindrome(inputString):\n",
    "    print(\"The string is a palindrome\")\n",
    "else:\n",
    "    print(\"The string is not a palindrome\")"
   ]
  },
  {
   "cell_type": "markdown",
   "metadata": {},
   "source": [
    "*Question 2:* Given a list of integers, write a program to find the largest and\n",
    "smallest numbers in the list. "
   ]
  },
  {
   "cell_type": "code",
   "execution_count": 5,
   "metadata": {},
   "outputs": [
    {
     "name": "stdout",
     "output_type": "stream",
     "text": [
      "The largest number in the list is:  67\n",
      "The smallest number in the list is:  1\n"
     ]
    }
   ],
   "source": [
    "# Answer - 2\n",
    "def chkLargeSmall(list):\n",
    "    print(\"The largest number in the list is: \", max(list))\n",
    "    print(\"The smallest number in the list is: \", min(list))\n",
    "\n",
    "inputList = [int(x) for x in input(\"Enter a list of numbers separated by ',': \").split(',')]\n",
    "chkLargeSmall(inputList)"
   ]
  },
  {
   "cell_type": "markdown",
   "metadata": {},
   "source": [
    "*Question 3:* Write a program that takes a dictionary of items and their prices, and\n",
    "prints items whose prices are above a certain threshold. "
   ]
  },
  {
   "cell_type": "code",
   "execution_count": null,
   "metadata": {},
   "outputs": [
    {
     "name": "stdout",
     "output_type": "stream",
     "text": [
      "The items with price less than 100 are: \n",
      " brush : 23\n",
      " hair oil : 89\n"
     ]
    }
   ],
   "source": [
    "# Answer - 3\n",
    "inputItem = [str(x) for x in input(\"Enter a list of items separated by ',': \").split(',')]\n",
    "inputPrices = [int(x) for x in input(\"Enter a list of prices respectively separated by ',': \").split(',')]\n",
    "\n",
    "itemDict = dict(zip(inputItem, inputPrices))\n",
    "lowerPrice = {}\n",
    "for item, price in itemDict.items():\n",
    "    if price < 100:\n",
    "        lowerPrice[item] = price\n",
    "print(\"The items with price less than 100 are: \")\n",
    "for item, price in lowerPrice.items():\n",
    "    print(item, ':', price)"
   ]
  },
  {
   "cell_type": "markdown",
   "metadata": {},
   "source": [
    "*Question 4:* Given a list of tuples write a program, where each tuple contains a\n",
    "name and a score, sort the list by score in descending order."
   ]
  },
  {
   "cell_type": "code",
   "execution_count": 2,
   "metadata": {},
   "outputs": [
    {
     "name": "stdout",
     "output_type": "stream",
     "text": [
      "The sorted list of tuples by score in descending order is: \n",
      "Saksham : 34\n",
      "Lakshay : 23\n"
     ]
    }
   ],
   "source": [
    "# Answer - 4\n",
    "def sortByScore(tuplesList):\n",
    "    return sorted(tuplesList, key=lambda x: x[1], reverse=True)\n",
    "\n",
    "inputTuples = [tuple(x.split(',')) for x in input(\"Enter a list of name,score tuples separated by ';': \").split(';')]\n",
    "inputTuples = [(name, int(score)) for name, score in inputTuples]\n",
    "sortedTuples = sortByScore(inputTuples)\n",
    "\n",
    "print(\"The sorted list of tuples by score in descending order is: \")\n",
    "for name, score in sortedTuples:\n",
    "    print(name, ':', score)"
   ]
  },
  {
   "cell_type": "markdown",
   "metadata": {},
   "source": [
    "*Question 5:* Write a program that takes a list of words and groups them into\n",
    "anagrams. For example, [\"bat\", \"tab\", \"eat\", \"tea\"] should return [['bat', 'tab'],\n",
    "['eat', 'tea']]. "
   ]
  },
  {
   "cell_type": "code",
   "execution_count": 4,
   "metadata": {},
   "outputs": [
    {
     "name": "stdout",
     "output_type": "stream",
     "text": [
      "The grouped anagrams are: \n",
      "['bat', 'tab']\n",
      "['slit', 'list']\n",
      "['this', 'shit']\n",
      "['eat', 'tea']\n",
      "['earth', 'heart']\n"
     ]
    }
   ],
   "source": [
    "# Answer - 5\n",
    "def groupAnagrams(words):\n",
    "    anagrams = {}\n",
    "    for word in words:\n",
    "        sorted_word = tuple(sorted(word))\n",
    "        if sorted_word in anagrams:\n",
    "            anagrams[sorted_word].append(word)\n",
    "        else:\n",
    "            anagrams[sorted_word] = [word]\n",
    "    return list(anagrams.values())\n",
    "\n",
    "inputWords = [str(x) for x in input(\"Enter a list of words separated by ',': \").split(',')]\n",
    "groupedAnagrams = groupAnagrams(inputWords)\n",
    "\n",
    "print(\"The grouped anagrams are: \")\n",
    "for group in groupedAnagrams:\n",
    "    print(group)"
   ]
  },
  {
   "cell_type": "markdown",
   "metadata": {},
   "source": [
    "*Question 6:* Write a program to convert temperatures between Celsius,\n",
    "Fahrenheit, and Kelvin. "
   ]
  },
  {
   "cell_type": "code",
   "execution_count": 5,
   "metadata": {},
   "outputs": [
    {
     "name": "stdout",
     "output_type": "stream",
     "text": [
      "\n",
      "Choose the original unit:\n",
      "1. Celsius\n",
      "2. Fahrenheit\n",
      "3. Kelvin\n",
      "\n",
      "Choose the unit to convert to:\n",
      "1. Celsius\n",
      "2. Fahrenheit\n",
      "3. Kelvin\n",
      "273.0°F is equal to 133.89°C\n"
     ]
    }
   ],
   "source": [
    "# Answer - 6\n",
    "# Get input from the user\n",
    "temperature = float(input(\"Enter temperature value: \"))\n",
    "\n",
    "print(\"\\nChoose the original unit:\")\n",
    "print(\"1. Celsius\")\n",
    "print(\"2. Fahrenheit\")\n",
    "print(\"3. Kelvin\")\n",
    "\n",
    "original_unit = int(input(\"Enter your choice (1-3): \"))\n",
    "\n",
    "print(\"\\nChoose the unit to convert to:\")\n",
    "print(\"1. Celsius\")\n",
    "print(\"2. Fahrenheit\")\n",
    "print(\"3. Kelvin\")\n",
    "\n",
    "target_unit = int(input(\"Enter your choice (1-3): \"))\n",
    "\n",
    "# Conversion logic\n",
    "if original_unit == 1:  # Celsius\n",
    "    if target_unit == 2:\n",
    "        converted_temperature = (temperature * 9/5) + 32\n",
    "        print(f\"{temperature}°C is equal to {converted_temperature:.2f}°F\")\n",
    "    elif target_unit == 3:\n",
    "        converted_temperature = temperature + 273.15\n",
    "        print(f\"{temperature}°C is equal to {converted_temperature:.2f}K\")\n",
    "    elif target_unit == 1:\n",
    "        print(f\"{temperature}°C is equal to {temperature:.2f}°C\")\n",
    "    else:\n",
    "        print(\"Invalid target unit selection.\")\n",
    "\n",
    "elif original_unit == 2:  # Fahrenheit\n",
    "    if target_unit == 1:\n",
    "        converted_temperature = (temperature - 32) * 5/9\n",
    "        print(f\"{temperature}°F is equal to {converted_temperature:.2f}°C\")\n",
    "    elif target_unit == 3:\n",
    "        converted_temperature = (temperature - 32) * 5/9 + 273.15\n",
    "        print(f\"{temperature}°F is equal to {converted_temperature:.2f}K\")\n",
    "    elif target_unit == 2:\n",
    "        print(f\"{temperature}°F is equal to {temperature:.2f}°F\")\n",
    "    else:\n",
    "        print(\"Invalid target unit selection.\")\n",
    "\n",
    "elif original_unit == 3:  # Kelvin\n",
    "    if target_unit == 1:\n",
    "        converted_temperature = temperature - 273.15\n",
    "        print(f\"{temperature}K is equal to {converted_temperature:.2f}°C\")\n",
    "    elif target_unit == 2:\n",
    "        converted_temperature = (temperature - 273.15) * 9/5 + 32\n",
    "        print(f\"{temperature}K is equal to {converted_temperature:.2f}°F\")\n",
    "    elif target_unit == 3:\n",
    "        print(f\"{temperature}K is equal to {temperature:.2f}K\")\n",
    "    else:\n",
    "        print(\"Invalid target unit selection.\")\n",
    "\n",
    "else:\n",
    "    print(\"Invalid original unit selection.\")\n"
   ]
  },
  {
   "cell_type": "markdown",
   "metadata": {},
   "source": [
    "*Question 7:* Write a function calc_operations(a, b) that returns the sum,\n",
    "difference, product, and quotient of two numbers. "
   ]
  },
  {
   "cell_type": "code",
   "execution_count": 6,
   "metadata": {},
   "outputs": [
    {
     "name": "stdout",
     "output_type": "stream",
     "text": [
      "Sum: 15\n",
      "Difference: 5\n",
      "Product: 50\n",
      "Quotient: 2.0\n"
     ]
    }
   ],
   "source": [
    "# Answer - 7\n",
    "def calc_operations(a, b):\n",
    "    sum_result = a + b\n",
    "    difference_result = a - b\n",
    "    product_result = a * b\n",
    "    quotient_result = a / b if b != 0 else None\n",
    "    return sum_result, difference_result, product_result, quotient_result\n",
    "\n",
    "# Example usage:\n",
    "a = 10\n",
    "b = 5\n",
    "results = calc_operations(a, b)\n",
    "print(f\"Sum: {results[0]}\")\n",
    "print(f\"Difference: {results[1]}\")\n",
    "print(f\"Product: {results[2]}\")\n",
    "print(f\"Quotient: {results[3]}\")"
   ]
  },
  {
   "cell_type": "markdown",
   "metadata": {},
   "source": [
    "*Question 8:* Write a lambda function that squares each element in a list. Use map\n",
    "to apply this lambda function to a list of numbers. "
   ]
  },
  {
   "cell_type": "code",
   "execution_count": 7,
   "metadata": {},
   "outputs": [
    {
     "name": "stdout",
     "output_type": "stream",
     "text": [
      "[1, 4, 9, 16, 25]\n"
     ]
    }
   ],
   "source": [
    "# Answer - 8\n",
    "numbers = [1, 2, 3, 4, 5]\n",
    "squared_numbers = list(map(lambda x: x ** 2, numbers))\n",
    "print(squared_numbers)"
   ]
  },
  {
   "cell_type": "markdown",
   "metadata": {},
   "source": [
    "*Question 9:* Create a function filter_even(nums) that uses a lambda and the filter\n",
    "function to return only even numbers from a list. "
   ]
  },
  {
   "cell_type": "code",
   "execution_count": null,
   "metadata": {},
   "outputs": [
    {
     "name": "stdout",
     "output_type": "stream",
     "text": [
      "[2, 4, 6, 8, 10]\n"
     ]
    }
   ],
   "source": [
    "# Answer - 9\n",
    "def filter_even(nums):\n",
    "    return list(filter(lambda x: x % 2 == 0, nums))\n",
    "\n",
    "# Example usage:\n",
    "nums = [1, 2, 3, 4, 5, 6, 7, 8, 9, 10]\n",
    "even_numbers = filter_even(nums)\n",
    "print(even_numbers)"
   ]
  },
  {
   "cell_type": "markdown",
   "metadata": {},
   "source": [
    "*Question 10:* Write a function calculate_area (shape, base=1, height=1,\n",
    "radius=1) that calculates the area of a triangle, rectangle, or circle based on the\n",
    "shape type and appropriate parameters."
   ]
  },
  {
   "cell_type": "code",
   "execution_count": null,
   "metadata": {},
   "outputs": [],
   "source": [
    "# Answer - 10\n",
    "import math\n",
    "\n",
    "def calculate_area(shape, base=1, height=1, radius=1):\n",
    "    if shape == \"tr\":  # triangle\n",
    "        return 0.5 * base * height\n",
    "    elif shape == \"rc\":  # rectangle\n",
    "        return base * height\n",
    "    elif shape == \"ci\":  # circle\n",
    "        return math.pi * radius ** 2\n",
    "    else:\n",
    "        return None\n",
    "\n",
    "# Example usage:\n",
    "shape = \"tr\"\n",
    "base = 5\n",
    "height = 10\n",
    "print(f\"The area of the triangle is: {calculate_area(shape, base=base, height=height)}\")\n",
    "\n",
    "shape = \"rc\"\n",
    "base = 5\n",
    "height = 10\n",
    "print(f\"The area of the rectangle is: {calculate_area(shape, base=base, height=height)}\")\n",
    "\n",
    "shape = \"ci\"\n",
    "radius = 7\n",
    "print(f\"The area of the circle is: {calculate_area(shape, radius=radius)}\")\n",
    "shape"
   ]
  },
  {
   "cell_type": "markdown",
   "metadata": {},
   "source": [
    "*Question 11:* Create an Employee class with attributes like name, position, and\n",
    "salary. Write methods to give a raise and display employee details. Allow for\n",
    "creating multiple employees."
   ]
  },
  {
   "cell_type": "code",
   "execution_count": null,
   "metadata": {},
   "outputs": [],
   "source": [
    "# Answer - 11\n",
    "class Employee:\n",
    "    def __init__(self, name, position, salary):\n",
    "        self.name = name\n",
    "        self.position = position\n",
    "        self.salary = salary\n",
    "\n",
    "    def give_raise(self, amount):\n",
    "        self.salary += amount\n",
    "\n",
    "    def display_details(self):\n",
    "        print(f\"Name: {self.name}\")\n",
    "        print(f\"Position: {self.position}\")\n",
    "        print(f\"Salary: {self.salary}\")\n",
    "\n",
    "# Example usage:\n",
    "emp1 = Employee(\"Lakshay\", \"Developer\", 70000)\n",
    "emp2 = Employee(\"Saksham\", \"Software-Engineer II\", 65000)\n",
    "\n",
    "emp1.display_details()\n",
    "print(\"\\nAfter raise:\")\n",
    "emp1.give_raise(5000)\n",
    "emp1.display_details()\n",
    "\n",
    "print(\"\\n\")\n",
    "\n",
    "emp2.display_details()\n",
    "print(\"\\nAfter raise:\")\n",
    "emp2.give_raise(4000)\n",
    "emp2.display_details()"
   ]
  }
 ],
 "metadata": {
  "kernelspec": {
   "display_name": "Python 3",
   "language": "python",
   "name": "python3"
  },
  "language_info": {
   "codemirror_mode": {
    "name": "ipython",
    "version": 3
   },
   "file_extension": ".py",
   "mimetype": "text/x-python",
   "name": "python",
   "nbconvert_exporter": "python",
   "pygments_lexer": "ipython3",
   "version": "3.12.4"
  }
 },
 "nbformat": 4,
 "nbformat_minor": 2
}
